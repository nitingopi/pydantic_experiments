{
 "cells": [
  {
   "cell_type": "code",
   "execution_count": 2,
   "metadata": {},
   "outputs": [],
   "source": [
    "from pydantic import BaseModel, ValidationError\n",
    "from datetime import date"
   ]
  },
  {
   "cell_type": "code",
   "execution_count": 14,
   "metadata": {},
   "outputs": [],
   "source": [
    "class Automobile(BaseModel):\n",
    "    manufacturer: str\n",
    "    series_name: str\n",
    "    type_:str\n",
    "    is_electric:bool = False\n",
    "    manufactured_date: date\n",
    "    base_mrp_usd: float\n",
    "    vin: str\n",
    "    number_of_doors: int = 4\n",
    "    registration_country: str | None = None\n",
    "    license_plate: str | None = None"
   ]
  },
  {
   "cell_type": "code",
   "execution_count": 15,
   "metadata": {},
   "outputs": [],
   "source": [
    "# create an Automobile instance with all required fields\n",
    "def test_create_automobile_with_required_fields():\n",
    "    automobile = Automobile(\n",
    "        manufacturer=\"Tesla\",\n",
    "        series_name=\"Model S\",\n",
    "        type_=\"Sedan\",\n",
    "        is_electric=True,\n",
    "        manufactured_date=date(2022, 1, 1),\n",
    "        base_mrp_usd=79999.99,\n",
    "        vin=\"5YJSA1E26MF1XXXXX\"\n",
    "    )\n",
    "    assert automobile.manufacturer == \"Tesla\" \n",
    "    assert automobile.series_name == \"Model S\"\n",
    "    assert automobile.type_ == \"Sedan\"\n",
    "    assert automobile.is_electric is True\n",
    "    assert automobile.manufactured_date == date(2022, 1, 1)\n",
    "    assert automobile.base_mrp_usd == 79999.99\n",
    "    assert automobile.vin == \"5YJSA1E26MF1XXXXX\""
   ]
  },
  {
   "cell_type": "code",
   "execution_count": 16,
   "metadata": {},
   "outputs": [],
   "source": [
    "# Creating an Automobile instance with missing required fields\n",
    "data = {\n",
    "    \"manufacturer\": \"Tesla\",\n",
    "    \"series_name\": \"Model S\",\n",
    "    \"type_\": \"Sedan\",\n",
    "    \"is_electric\": True,\n",
    "    \"manufactured_date\": date(2022, 1, 1),\n",
    "    \"base_mrp_usd\": 79999.99,\n",
    "    \"vin\":\"5YJSA1E26MF1XXXXX\",\n",
    "    \"number_of_doors\": 4,\n",
    "    \"registration_country\": None,\n",
    "    \"license_plate\": None\n",
    "}\n",
    "car = Automobile.model_validate(data)"
   ]
  },
  {
   "cell_type": "code",
   "execution_count": 17,
   "metadata": {},
   "outputs": [
    {
     "data": {
      "text/plain": [
       "Automobile(manufacturer='Tesla', series_name='Model S', type_='Sedan', is_electric=True, manufactured_date=datetime.date(2022, 1, 1), base_mrp_usd=79999.99, vin='5YJSA1E26MF1XXXXX', number_of_doors=4, registration_country=None, license_plate=None)"
      ]
     },
     "execution_count": 17,
     "metadata": {},
     "output_type": "execute_result"
    }
   ],
   "source": [
    "car"
   ]
  },
  {
   "cell_type": "code",
   "execution_count": 18,
   "metadata": {},
   "outputs": [
    {
     "data": {
      "text/plain": [
       "{'manufacturer': 'Tesla',\n",
       " 'series_name': 'Model S',\n",
       " 'type_': 'Sedan',\n",
       " 'is_electric': True,\n",
       " 'manufactured_date': datetime.date(2022, 1, 1),\n",
       " 'base_mrp_usd': 79999.99,\n",
       " 'vin': '5YJSA1E26MF1XXXXX',\n",
       " 'number_of_doors': 4,\n",
       " 'registration_country': None,\n",
       " 'license_plate': None}"
      ]
     },
     "execution_count": 18,
     "metadata": {},
     "output_type": "execute_result"
    }
   ],
   "source": [
    "data"
   ]
  },
  {
   "cell_type": "code",
   "execution_count": 19,
   "metadata": {},
   "outputs": [
    {
     "data": {
      "text/plain": [
       "{'manufacturer': 'Tesla',\n",
       " 'series_name': 'Model S',\n",
       " 'type_': 'Sedan',\n",
       " 'is_electric': True,\n",
       " 'manufactured_date': datetime.date(2022, 1, 1),\n",
       " 'base_mrp_usd': 79999.99,\n",
       " 'vin': '5YJSA1E26MF1XXXXX',\n",
       " 'number_of_doors': 4,\n",
       " 'registration_country': None,\n",
       " 'license_plate': None}"
      ]
     },
     "execution_count": 19,
     "metadata": {},
     "output_type": "execute_result"
    }
   ],
   "source": [
    "car.model_dump()"
   ]
  },
  {
   "cell_type": "code",
   "execution_count": 20,
   "metadata": {},
   "outputs": [
    {
     "data": {
      "text/plain": [
       "True"
      ]
     },
     "execution_count": 20,
     "metadata": {},
     "output_type": "execute_result"
    }
   ],
   "source": [
    "car.model_dump() == data"
   ]
  },
  {
   "cell_type": "code",
   "execution_count": 1,
   "metadata": {},
   "outputs": [],
   "source": [
    "def get_factorial(n):\n",
    "    return 1 if n == 0 else n * get_factorial(n - 1) \n"
   ]
  },
  {
   "cell_type": "code",
   "execution_count": null,
   "metadata": {},
   "outputs": [],
   "source": []
  }
 ],
 "metadata": {
  "kernelspec": {
   "display_name": "pydantic_env",
   "language": "python",
   "name": "python3"
  },
  "language_info": {
   "codemirror_mode": {
    "name": "ipython",
    "version": 3
   },
   "file_extension": ".py",
   "mimetype": "text/x-python",
   "name": "python",
   "nbconvert_exporter": "python",
   "pygments_lexer": "ipython3",
   "version": "3.12.3"
  }
 },
 "nbformat": 4,
 "nbformat_minor": 2
}
