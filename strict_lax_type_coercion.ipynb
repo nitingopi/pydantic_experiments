{
 "cells": [
  {
   "cell_type": "code",
   "execution_count": 16,
   "metadata": {},
   "outputs": [],
   "source": [
    "from pydantic import BaseModel, ValidationError, ConfigDict"
   ]
  },
  {
   "cell_type": "code",
   "execution_count": 3,
   "metadata": {},
   "outputs": [],
   "source": [
    "class Model(BaseModel):\n",
    "    field_1:str\n",
    "    field_2:float\n",
    "    field_3:list\n",
    "    field_4:tuple"
   ]
  },
  {
   "cell_type": "code",
   "execution_count": 13,
   "metadata": {},
   "outputs": [
    {
     "name": "stdout",
     "output_type": "stream",
     "text": [
      "1 validation error for Model\n",
      "field_1\n",
      "  Input should be a valid string [type=string_type, input_value=100, input_type=int]\n",
      "    For further information visit https://errors.pydantic.dev/2.6/v/string_type\n"
     ]
    }
   ],
   "source": [
    "try:\n",
    "    Model(field_1=100, field_2=1, field_3=(1,2,3,4), field_4=[1,2,3,4])\n",
    "except ValidationError as ex:\n",
    "    print(ex)    "
   ]
  },
  {
   "cell_type": "code",
   "execution_count": 14,
   "metadata": {},
   "outputs": [],
   "source": [
    "try:\n",
    "    m = Model(field_1='100', field_2=1, field_3=(1,2,3,4), field_4=[1,2,3,4])\n",
    "except ValidationError as ex:\n",
    "    print(ex)    "
   ]
  },
  {
   "cell_type": "code",
   "execution_count": 15,
   "metadata": {},
   "outputs": [
    {
     "data": {
      "text/plain": [
       "{'field_1': '100',\n",
       " 'field_2': 1.0,\n",
       " 'field_3': [1, 2, 3, 4],\n",
       " 'field_4': (1, 2, 3, 4)}"
      ]
     },
     "execution_count": 15,
     "metadata": {},
     "output_type": "execute_result"
    }
   ],
   "source": [
    "m.model_dump()"
   ]
  },
  {
   "cell_type": "code",
   "execution_count": 16,
   "metadata": {},
   "outputs": [],
   "source": [
    "class Model(BaseModel):\n",
    "    model_config = ConfigDict(strict=True)\n",
    "    field_1:str\n",
    "    field_2:float\n",
    "    field_3:list\n",
    "    field_4:tuple"
   ]
  },
  {
   "cell_type": "code",
   "execution_count": 17,
   "metadata": {},
   "outputs": [
    {
     "name": "stdout",
     "output_type": "stream",
     "text": [
      "2 validation errors for Model\n",
      "field_1\n",
      "  Input should be a valid string [type=string_type, input_value=100, input_type=int]\n",
      "    For further information visit https://errors.pydantic.dev/2.6/v/string_type\n",
      "field_4\n",
      "  Input should be a valid tuple [type=tuple_type, input_value=[1, 2, 3, 4], input_type=list]\n",
      "    For further information visit https://errors.pydantic.dev/2.6/v/tuple_type\n"
     ]
    }
   ],
   "source": [
    "try:\n",
    "    Model(field_1=100, field_2=1, field_3=(1,2,3,4), field_4=[1,2,3,4])\n",
    "except ValidationError as ex:\n",
    "    print(ex)    "
   ]
  },
  {
   "cell_type": "code",
   "execution_count": 4,
   "metadata": {},
   "outputs": [],
   "source": [
    "json_data = '''\n",
    "{\n",
    "    \"field_1\" : true,\n",
    "    \"field_2\" : 10.5,\n",
    "    \"field_3\" : 10,\n",
    "    \"field_4\" : null,\n",
    "    \"field_5\" : [1,2,3],\n",
    "    \"field_6\" : {\n",
    "        \"a\" : 1,\n",
    "        \"b\" : 2,\n",
    "        \"c\" : [3,4,5]\n",
    "    },\n",
    "    \"field_7\" : [\n",
    "        [1,0,0],\n",
    "        [0,1,0],\n",
    "        [0,0,1]\n",
    "    ]\n",
    "}    \n",
    "'''"
   ]
  },
  {
   "cell_type": "code",
   "execution_count": 5,
   "metadata": {},
   "outputs": [],
   "source": [
    "import json\n",
    "from pprint import pprint"
   ]
  },
  {
   "cell_type": "code",
   "execution_count": 8,
   "metadata": {},
   "outputs": [
    {
     "name": "stdout",
     "output_type": "stream",
     "text": [
      "{'field_1': True,\n",
      " 'field_2': 10.5,\n",
      " 'field_3': 10,\n",
      " 'field_4': None,\n",
      " 'field_5': [1, 2, 3],\n",
      " 'field_6': {'a': 1, 'b': 2, 'c': [3, 4, 5]},\n",
      " 'field_7': [[1, 0, 0], [0, 1, 0], [0, 0, 1]]}\n"
     ]
    }
   ],
   "source": [
    "data = json.loads(json_data)\n",
    "pprint(data)"
   ]
  },
  {
   "cell_type": "code",
   "execution_count": 14,
   "metadata": {},
   "outputs": [
    {
     "name": "stdout",
     "output_type": "stream",
     "text": [
      "<class 'bool'>\n",
      "<class 'float'>\n",
      "<class 'int'>\n",
      "<class 'NoneType'>\n",
      "<class 'list'>\n",
      "<class 'dict'>\n",
      "<class 'list'>\n"
     ]
    }
   ],
   "source": [
    "print(type(data['field_1']))\n",
    "print(type(data['field_2']))\n",
    "print(type(data['field_3']))\n",
    "print(type(data['field_4']))\n",
    "print(type(data['field_5']))\n",
    "print(type(data['field_6']))\n",
    "print(type(data['field_7']))\n"
   ]
  },
  {
   "cell_type": "code",
   "execution_count": 20,
   "metadata": {},
   "outputs": [],
   "source": [
    "class Model(BaseModel):\n",
    "    field_1: bool\n",
    "    field_2: float\n",
    "    field_3: int\n",
    "    field_4: str | None\n",
    "    field_5: tuple[int,...]\n",
    "    field_6: set[str]\n",
    "    field_7: dict\n",
    "    field_8: list[str]\n"
   ]
  },
  {
   "cell_type": "code",
   "execution_count": 21,
   "metadata": {},
   "outputs": [],
   "source": [
    "json_data = '''\n",
    "{\n",
    "    \"field_1\" : true,\n",
    "    \"field_2\" : 10,\n",
    "    \"field_3\" : 1,\n",
    "    \"field_4\" : null,\n",
    "    \"field_5\" : [1,2,3],\n",
    "    \"field_6\" : [\"a\", \"b\", \"c\" ],\n",
    "    \"field_7\" : {\"a\":1, \"b\":2},\n",
    "    \"field_8\" : [\"d\", \"e\", \"f\" ]\n",
    "}\n",
    "'''"
   ]
  },
  {
   "cell_type": "code",
   "execution_count": 22,
   "metadata": {},
   "outputs": [
    {
     "data": {
      "text/plain": [
       "Model(field_1=True, field_2=10.0, field_3=1, field_4=None, field_5=(1, 2, 3), field_6={'c', 'a', 'b'}, field_7={'a': 1, 'b': 2}, field_8=['d', 'e', 'f'])"
      ]
     },
     "execution_count": 22,
     "metadata": {},
     "output_type": "execute_result"
    }
   ],
   "source": [
    "model = Model.model_validate_json(json_data)\n",
    "model"
   ]
  },
  {
   "cell_type": "code",
   "execution_count": null,
   "metadata": {},
   "outputs": [],
   "source": []
  }
 ],
 "metadata": {
  "kernelspec": {
   "display_name": "pydantic_env",
   "language": "python",
   "name": "python3"
  },
  "language_info": {
   "codemirror_mode": {
    "name": "ipython",
    "version": 3
   },
   "file_extension": ".py",
   "mimetype": "text/x-python",
   "name": "python",
   "nbconvert_exporter": "python",
   "pygments_lexer": "ipython3",
   "version": "3.12.3"
  }
 },
 "nbformat": 4,
 "nbformat_minor": 2
}
